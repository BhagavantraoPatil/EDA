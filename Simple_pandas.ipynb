{
  "nbformat": 4,
  "nbformat_minor": 0,
  "metadata": {
    "colab": {
      "provenance": []
    },
    "kernelspec": {
      "name": "python3",
      "display_name": "Python 3"
    },
    "language_info": {
      "name": "python"
    }
  },
  "cells": [
    {
      "cell_type": "code",
      "execution_count": 6,
      "metadata": {
        "colab": {
          "base_uri": "https://localhost:8080/"
        },
        "id": "lzdMb96Rqcg9",
        "outputId": "5824cc4e-d7ab-44c7-fcb5-9e763c034a35"
      },
      "outputs": [
        {
          "output_type": "stream",
          "name": "stdout",
          "text": [
            "       Brand  Ranking    MNC\n",
            "0  Top Ramen        2  False\n",
            "1     Maggie        1   True\n",
            "2    Yum Yum        3  False\n",
            "\n",
            "\n",
            "        Ranking\n",
            "count      3.0\n",
            "mean       2.0\n",
            "std        1.0\n",
            "min        1.0\n",
            "25%        1.5\n",
            "50%        2.0\n",
            "75%        2.5\n",
            "max        3.0\n"
          ]
        }
      ],
      "source": [
        "import pandas as pd\n",
        "\n",
        "df = pd.DataFrame(\n",
        "    {\n",
        "        'Brand':['Top Ramen', 'Maggie', 'Yum Yum'],\n",
        "        'Ranking': [2, 1, 3],\n",
        "        'MNC': [False, True, False]\n",
        "        }\n",
        "    )\n",
        "print(df.head())\n",
        "\n",
        "print(\"\\n\\n\",df.describe())"
      ]
    }
  ]
}