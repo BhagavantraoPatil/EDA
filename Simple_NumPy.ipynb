{
  "nbformat": 4,
  "nbformat_minor": 0,
  "metadata": {
    "colab": {
      "provenance": []
    },
    "kernelspec": {
      "name": "python3",
      "display_name": "Python 3"
    },
    "language_info": {
      "name": "python"
    }
  },
  "cells": [
    {
      "cell_type": "code",
      "execution_count": 1,
      "metadata": {
        "colab": {
          "base_uri": "https://localhost:8080/"
        },
        "id": "RJ_HMgqeVyTm",
        "outputId": "7b78c0b6-c94e-41b2-cef9-9fbbb657e7c3"
      },
      "outputs": [
        {
          "output_type": "stream",
          "name": "stdout",
          "text": [
            "Overweight:  [30.  21.5 21. ]\n",
            "Underweight:  [ 2.8 20.  15. ]\n"
          ]
        }
      ],
      "source": [
        "import numpy as np\n",
        "\n",
        "bmi = [2.8, 20, 30, 21.5, 15, 21]\n",
        "bmi_np = np.array(bmi)\n",
        "\n",
        "overweight = bmi_np [bmi_np>=21]\n",
        "underweight = bmi_np [bmi_np<21]\n",
        "\n",
        "print (\"Overweight: \",overweight)\n",
        "print (\"Underweight: \",underweight)"
      ]
    }
  ]
}